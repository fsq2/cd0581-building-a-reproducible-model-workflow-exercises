{
 "cells": [
  {
   "cell_type": "code",
   "execution_count": 5,
   "metadata": {},
   "outputs": [
    {
     "ename": "ImportError",
     "evalue": "cannot import name 'escape' from 'jinja2.utils' (/Users/fahadalqhtani/opt/anaconda3/envs/mlflow-07c940dae14ac80331b6d1392cdce19a198ead1b/lib/python3.9/site-packages/jinja2/utils.py)",
     "output_type": "error",
     "traceback": [
      "\u001b[0;31m---------------------------------------------------------------------------\u001b[0m",
      "\u001b[0;31mImportError\u001b[0m                               Traceback (most recent call last)",
      "Input \u001b[0;32mIn [5]\u001b[0m, in \u001b[0;36m<cell line: 6>\u001b[0;34m()\u001b[0m\n\u001b[1;32m      4\u001b[0m \u001b[38;5;28;01mimport\u001b[39;00m \u001b[38;5;21;01mpandas\u001b[39;00m \u001b[38;5;28;01mas\u001b[39;00m \u001b[38;5;21;01mpd\u001b[39;00m\n\u001b[1;32m      5\u001b[0m \u001b[38;5;28;01mimport\u001b[39;00m \u001b[38;5;21;01mnumpy\u001b[39;00m \u001b[38;5;28;01mas\u001b[39;00m \u001b[38;5;21;01mnp\u001b[39;00m\n\u001b[0;32m----> 6\u001b[0m \u001b[38;5;28;01mfrom\u001b[39;00m \u001b[38;5;21;01mpandas_profiling\u001b[39;00m \u001b[38;5;28;01mimport\u001b[39;00m ProfileReport\n",
      "File \u001b[0;32m~/opt/anaconda3/envs/mlflow-07c940dae14ac80331b6d1392cdce19a198ead1b/lib/python3.9/site-packages/pandas_profiling/__init__.py:7\u001b[0m, in \u001b[0;36m<module>\u001b[0;34m\u001b[0m\n\u001b[1;32m      1\u001b[0m \u001b[38;5;124;03m\"\"\"Main module of pandas-profiling.\u001b[39;00m\n\u001b[1;32m      2\u001b[0m \n\u001b[1;32m      3\u001b[0m \u001b[38;5;124;03m.. include:: ../../README.md\u001b[39;00m\n\u001b[1;32m      4\u001b[0m \u001b[38;5;124;03m\"\"\"\u001b[39;00m\n\u001b[1;32m      6\u001b[0m \u001b[38;5;28;01mfrom\u001b[39;00m \u001b[38;5;21;01mpandas_profiling\u001b[39;00m\u001b[38;5;21;01m.\u001b[39;00m\u001b[38;5;21;01mconfig\u001b[39;00m \u001b[38;5;28;01mimport\u001b[39;00m Config, config\n\u001b[0;32m----> 7\u001b[0m \u001b[38;5;28;01mfrom\u001b[39;00m \u001b[38;5;21;01mpandas_profiling\u001b[39;00m\u001b[38;5;21;01m.\u001b[39;00m\u001b[38;5;21;01mcontroller\u001b[39;00m \u001b[38;5;28;01mimport\u001b[39;00m pandas_decorator\n\u001b[1;32m      8\u001b[0m \u001b[38;5;28;01mfrom\u001b[39;00m \u001b[38;5;21;01mpandas_profiling\u001b[39;00m\u001b[38;5;21;01m.\u001b[39;00m\u001b[38;5;21;01mprofile_report\u001b[39;00m \u001b[38;5;28;01mimport\u001b[39;00m ProfileReport\n\u001b[1;32m      9\u001b[0m \u001b[38;5;28;01mfrom\u001b[39;00m \u001b[38;5;21;01mpandas_profiling\u001b[39;00m\u001b[38;5;21;01m.\u001b[39;00m\u001b[38;5;21;01mversion\u001b[39;00m \u001b[38;5;28;01mimport\u001b[39;00m __version__\n",
      "File \u001b[0;32m~/opt/anaconda3/envs/mlflow-07c940dae14ac80331b6d1392cdce19a198ead1b/lib/python3.9/site-packages/pandas_profiling/controller/pandas_decorator.py:4\u001b[0m, in \u001b[0;36m<module>\u001b[0;34m\u001b[0m\n\u001b[1;32m      1\u001b[0m \u001b[38;5;124;03m\"\"\"This file add the decorator on the DataFrame object.\"\"\"\u001b[39;00m\n\u001b[1;32m      2\u001b[0m \u001b[38;5;28;01mfrom\u001b[39;00m \u001b[38;5;21;01mpandas\u001b[39;00m \u001b[38;5;28;01mimport\u001b[39;00m DataFrame\n\u001b[0;32m----> 4\u001b[0m \u001b[38;5;28;01mfrom\u001b[39;00m \u001b[38;5;21;01mpandas_profiling\u001b[39;00m\u001b[38;5;21;01m.\u001b[39;00m\u001b[38;5;21;01mprofile_report\u001b[39;00m \u001b[38;5;28;01mimport\u001b[39;00m ProfileReport\n\u001b[1;32m      7\u001b[0m \u001b[38;5;28;01mdef\u001b[39;00m \u001b[38;5;21mprofile_report\u001b[39m(df, \u001b[38;5;241m*\u001b[39m\u001b[38;5;241m*\u001b[39mkwargs) \u001b[38;5;241m-\u001b[39m\u001b[38;5;241m>\u001b[39m ProfileReport:\n\u001b[1;32m      8\u001b[0m     \u001b[38;5;124;03m\"\"\"Profile a DataFrame.\u001b[39;00m\n\u001b[1;32m      9\u001b[0m \n\u001b[1;32m     10\u001b[0m \u001b[38;5;124;03m    Args:\u001b[39;00m\n\u001b[0;32m   (...)\u001b[0m\n\u001b[1;32m     15\u001b[0m \u001b[38;5;124;03m        A ProfileReport of the DataFrame.\u001b[39;00m\n\u001b[1;32m     16\u001b[0m \u001b[38;5;124;03m    \"\"\"\u001b[39;00m\n",
      "File \u001b[0;32m~/opt/anaconda3/envs/mlflow-07c940dae14ac80331b6d1392cdce19a198ead1b/lib/python3.9/site-packages/pandas_profiling/profile_report.py:19\u001b[0m, in \u001b[0;36m<module>\u001b[0;34m\u001b[0m\n\u001b[1;32m     17\u001b[0m \u001b[38;5;28;01mfrom\u001b[39;00m \u001b[38;5;21;01mpandas_profiling\u001b[39;00m\u001b[38;5;21;01m.\u001b[39;00m\u001b[38;5;21;01mmodel\u001b[39;00m\u001b[38;5;21;01m.\u001b[39;00m\u001b[38;5;21;01mtypeset\u001b[39;00m \u001b[38;5;28;01mimport\u001b[39;00m ProfilingTypeSet\n\u001b[1;32m     18\u001b[0m \u001b[38;5;28;01mfrom\u001b[39;00m \u001b[38;5;21;01mpandas_profiling\u001b[39;00m\u001b[38;5;21;01m.\u001b[39;00m\u001b[38;5;21;01mreport\u001b[39;00m \u001b[38;5;28;01mimport\u001b[39;00m get_report_structure\n\u001b[0;32m---> 19\u001b[0m \u001b[38;5;28;01mfrom\u001b[39;00m \u001b[38;5;21;01mpandas_profiling\u001b[39;00m\u001b[38;5;21;01m.\u001b[39;00m\u001b[38;5;21;01mreport\u001b[39;00m\u001b[38;5;21;01m.\u001b[39;00m\u001b[38;5;21;01mpresentation\u001b[39;00m\u001b[38;5;21;01m.\u001b[39;00m\u001b[38;5;21;01mflavours\u001b[39;00m\u001b[38;5;21;01m.\u001b[39;00m\u001b[38;5;21;01mhtml\u001b[39;00m\u001b[38;5;21;01m.\u001b[39;00m\u001b[38;5;21;01mtemplates\u001b[39;00m \u001b[38;5;28;01mimport\u001b[39;00m (\n\u001b[1;32m     20\u001b[0m     create_html_assets,\n\u001b[1;32m     21\u001b[0m )\n\u001b[1;32m     22\u001b[0m \u001b[38;5;28;01mfrom\u001b[39;00m \u001b[38;5;21;01mpandas_profiling\u001b[39;00m\u001b[38;5;21;01m.\u001b[39;00m\u001b[38;5;21;01mserialize_report\u001b[39;00m \u001b[38;5;28;01mimport\u001b[39;00m SerializeReport\n\u001b[1;32m     23\u001b[0m \u001b[38;5;28;01mfrom\u001b[39;00m \u001b[38;5;21;01mpandas_profiling\u001b[39;00m\u001b[38;5;21;01m.\u001b[39;00m\u001b[38;5;21;01mutils\u001b[39;00m\u001b[38;5;21;01m.\u001b[39;00m\u001b[38;5;21;01mdataframe\u001b[39;00m \u001b[38;5;28;01mimport\u001b[39;00m hash_dataframe, rename_index\n",
      "File \u001b[0;32m~/opt/anaconda3/envs/mlflow-07c940dae14ac80331b6d1392cdce19a198ead1b/lib/python3.9/site-packages/pandas_profiling/report/presentation/flavours/html/__init__.py:1\u001b[0m, in \u001b[0;36m<module>\u001b[0;34m\u001b[0m\n\u001b[0;32m----> 1\u001b[0m \u001b[38;5;28;01mfrom\u001b[39;00m \u001b[38;5;21;01mpandas_profiling\u001b[39;00m\u001b[38;5;21;01m.\u001b[39;00m\u001b[38;5;21;01mreport\u001b[39;00m\u001b[38;5;21;01m.\u001b[39;00m\u001b[38;5;21;01mpresentation\u001b[39;00m\u001b[38;5;21;01m.\u001b[39;00m\u001b[38;5;21;01mflavours\u001b[39;00m\u001b[38;5;21;01m.\u001b[39;00m\u001b[38;5;21;01mhtml\u001b[39;00m\u001b[38;5;21;01m.\u001b[39;00m\u001b[38;5;21;01mcollapse\u001b[39;00m \u001b[38;5;28;01mimport\u001b[39;00m HTMLCollapse\n\u001b[1;32m      2\u001b[0m \u001b[38;5;28;01mfrom\u001b[39;00m \u001b[38;5;21;01mpandas_profiling\u001b[39;00m\u001b[38;5;21;01m.\u001b[39;00m\u001b[38;5;21;01mreport\u001b[39;00m\u001b[38;5;21;01m.\u001b[39;00m\u001b[38;5;21;01mpresentation\u001b[39;00m\u001b[38;5;21;01m.\u001b[39;00m\u001b[38;5;21;01mflavours\u001b[39;00m\u001b[38;5;21;01m.\u001b[39;00m\u001b[38;5;21;01mhtml\u001b[39;00m\u001b[38;5;21;01m.\u001b[39;00m\u001b[38;5;21;01mcontainer\u001b[39;00m \u001b[38;5;28;01mimport\u001b[39;00m HTMLContainer\n\u001b[1;32m      3\u001b[0m \u001b[38;5;28;01mfrom\u001b[39;00m \u001b[38;5;21;01mpandas_profiling\u001b[39;00m\u001b[38;5;21;01m.\u001b[39;00m\u001b[38;5;21;01mreport\u001b[39;00m\u001b[38;5;21;01m.\u001b[39;00m\u001b[38;5;21;01mpresentation\u001b[39;00m\u001b[38;5;21;01m.\u001b[39;00m\u001b[38;5;21;01mflavours\u001b[39;00m\u001b[38;5;21;01m.\u001b[39;00m\u001b[38;5;21;01mhtml\u001b[39;00m\u001b[38;5;21;01m.\u001b[39;00m\u001b[38;5;21;01mduplicate\u001b[39;00m \u001b[38;5;28;01mimport\u001b[39;00m HTMLDuplicate\n",
      "File \u001b[0;32m~/opt/anaconda3/envs/mlflow-07c940dae14ac80331b6d1392cdce19a198ead1b/lib/python3.9/site-packages/pandas_profiling/report/presentation/flavours/html/collapse.py:2\u001b[0m, in \u001b[0;36m<module>\u001b[0;34m\u001b[0m\n\u001b[1;32m      1\u001b[0m \u001b[38;5;28;01mfrom\u001b[39;00m \u001b[38;5;21;01mpandas_profiling\u001b[39;00m\u001b[38;5;21;01m.\u001b[39;00m\u001b[38;5;21;01mreport\u001b[39;00m\u001b[38;5;21;01m.\u001b[39;00m\u001b[38;5;21;01mpresentation\u001b[39;00m\u001b[38;5;21;01m.\u001b[39;00m\u001b[38;5;21;01mcore\u001b[39;00m \u001b[38;5;28;01mimport\u001b[39;00m Collapse\n\u001b[0;32m----> 2\u001b[0m \u001b[38;5;28;01mfrom\u001b[39;00m \u001b[38;5;21;01mpandas_profiling\u001b[39;00m\u001b[38;5;21;01m.\u001b[39;00m\u001b[38;5;21;01mreport\u001b[39;00m\u001b[38;5;21;01m.\u001b[39;00m\u001b[38;5;21;01mpresentation\u001b[39;00m\u001b[38;5;21;01m.\u001b[39;00m\u001b[38;5;21;01mflavours\u001b[39;00m\u001b[38;5;21;01m.\u001b[39;00m\u001b[38;5;21;01mhtml\u001b[39;00m \u001b[38;5;28;01mimport\u001b[39;00m templates\n\u001b[1;32m      5\u001b[0m \u001b[38;5;28;01mclass\u001b[39;00m \u001b[38;5;21;01mHTMLCollapse\u001b[39;00m(Collapse):\n\u001b[1;32m      6\u001b[0m     \u001b[38;5;28;01mdef\u001b[39;00m \u001b[38;5;21mrender\u001b[39m(\u001b[38;5;28mself\u001b[39m):\n",
      "File \u001b[0;32m~/opt/anaconda3/envs/mlflow-07c940dae14ac80331b6d1392cdce19a198ead1b/lib/python3.9/site-packages/pandas_profiling/report/presentation/flavours/html/templates.py:9\u001b[0m, in \u001b[0;36m<module>\u001b[0;34m\u001b[0m\n\u001b[1;32m      6\u001b[0m \u001b[38;5;28;01mimport\u001b[39;00m \u001b[38;5;21;01mjinja2\u001b[39;00m\n\u001b[1;32m      8\u001b[0m \u001b[38;5;28;01mfrom\u001b[39;00m \u001b[38;5;21;01mpandas_profiling\u001b[39;00m\u001b[38;5;21;01m.\u001b[39;00m\u001b[38;5;21;01mconfig\u001b[39;00m \u001b[38;5;28;01mimport\u001b[39;00m config\n\u001b[0;32m----> 9\u001b[0m \u001b[38;5;28;01mfrom\u001b[39;00m \u001b[38;5;21;01mpandas_profiling\u001b[39;00m\u001b[38;5;21;01m.\u001b[39;00m\u001b[38;5;21;01mreport\u001b[39;00m\u001b[38;5;21;01m.\u001b[39;00m\u001b[38;5;21;01mformatters\u001b[39;00m \u001b[38;5;28;01mimport\u001b[39;00m get_fmt_mapping\n\u001b[1;32m     11\u001b[0m \u001b[38;5;66;03m# Initializing Jinja\u001b[39;00m\n\u001b[1;32m     12\u001b[0m \u001b[38;5;66;03m# from pandas_profiling.utils.paths import get_html_template_path\u001b[39;00m\n\u001b[1;32m     14\u001b[0m package_loader \u001b[38;5;241m=\u001b[39m jinja2\u001b[38;5;241m.\u001b[39mPackageLoader(\n\u001b[1;32m     15\u001b[0m     \u001b[38;5;124m\"\u001b[39m\u001b[38;5;124mpandas_profiling\u001b[39m\u001b[38;5;124m\"\u001b[39m, \u001b[38;5;124m\"\u001b[39m\u001b[38;5;124mreport/presentation/flavours/html/templates\u001b[39m\u001b[38;5;124m\"\u001b[39m\n\u001b[1;32m     16\u001b[0m )\n",
      "File \u001b[0;32m~/opt/anaconda3/envs/mlflow-07c940dae14ac80331b6d1392cdce19a198ead1b/lib/python3.9/site-packages/pandas_profiling/report/formatters.py:5\u001b[0m, in \u001b[0;36m<module>\u001b[0;34m\u001b[0m\n\u001b[1;32m      2\u001b[0m \u001b[38;5;28;01mfrom\u001b[39;00m \u001b[38;5;21;01mtyping\u001b[39;00m \u001b[38;5;28;01mimport\u001b[39;00m Callable, Dict\n\u001b[1;32m      4\u001b[0m \u001b[38;5;28;01mimport\u001b[39;00m \u001b[38;5;21;01mnumpy\u001b[39;00m \u001b[38;5;28;01mas\u001b[39;00m \u001b[38;5;21;01mnp\u001b[39;00m\n\u001b[0;32m----> 5\u001b[0m \u001b[38;5;28;01mfrom\u001b[39;00m \u001b[38;5;21;01mjinja2\u001b[39;00m\u001b[38;5;21;01m.\u001b[39;00m\u001b[38;5;21;01mutils\u001b[39;00m \u001b[38;5;28;01mimport\u001b[39;00m escape\n\u001b[1;32m      8\u001b[0m \u001b[38;5;28;01mdef\u001b[39;00m \u001b[38;5;21mfmt_color\u001b[39m(text: \u001b[38;5;28mstr\u001b[39m, color: \u001b[38;5;28mstr\u001b[39m) \u001b[38;5;241m-\u001b[39m\u001b[38;5;241m>\u001b[39m \u001b[38;5;28mstr\u001b[39m:\n\u001b[1;32m      9\u001b[0m     \u001b[38;5;124;03m\"\"\"Format a string in a certain color (`<span>`).\u001b[39;00m\n\u001b[1;32m     10\u001b[0m \n\u001b[1;32m     11\u001b[0m \u001b[38;5;124;03m    Args:\u001b[39;00m\n\u001b[0;32m   (...)\u001b[0m\n\u001b[1;32m     16\u001b[0m \u001b[38;5;124;03m        A `<span>` that contains the colored text.\u001b[39;00m\n\u001b[1;32m     17\u001b[0m \u001b[38;5;124;03m    \"\"\"\u001b[39;00m\n",
      "\u001b[0;31mImportError\u001b[0m: cannot import name 'escape' from 'jinja2.utils' (/Users/fahadalqhtani/opt/anaconda3/envs/mlflow-07c940dae14ac80331b6d1392cdce19a198ead1b/lib/python3.9/site-packages/jinja2/utils.py)"
     ]
    }
   ],
   "source": [
    "import wandb\n",
    "import matplotlib.pyplot as plt\n",
    "import seaborn as sns\n",
    "import pandas as pd\n",
    "import numpy as np\n",
    "from pandas_profiling import ProfileReport"
   ]
  },
  {
   "cell_type": "code",
   "execution_count": 4,
   "metadata": {},
   "outputs": [
    {
     "name": "stdout",
     "output_type": "stream",
     "text": [
      "Requirement already satisfied: pandas_profiling in /Users/fahadalqhtani/opt/anaconda3/envs/mlflow-07c940dae14ac80331b6d1392cdce19a198ead1b/lib/python3.9/site-packages (2.11.0)\n",
      "Requirement already satisfied: matplotlib>=3.2.0 in /Users/fahadalqhtani/opt/anaconda3/envs/mlflow-07c940dae14ac80331b6d1392cdce19a198ead1b/lib/python3.9/site-packages (from pandas_profiling) (3.5.3)\n",
      "Requirement already satisfied: attrs>=19.3.0 in /Users/fahadalqhtani/opt/anaconda3/envs/mlflow-07c940dae14ac80331b6d1392cdce19a198ead1b/lib/python3.9/site-packages (from pandas_profiling) (22.1.0)\n",
      "Requirement already satisfied: missingno>=0.4.2 in /Users/fahadalqhtani/opt/anaconda3/envs/mlflow-07c940dae14ac80331b6d1392cdce19a198ead1b/lib/python3.9/site-packages (from pandas_profiling) (0.4.2)\n",
      "Requirement already satisfied: requests>=2.24.0 in /Users/fahadalqhtani/opt/anaconda3/envs/mlflow-07c940dae14ac80331b6d1392cdce19a198ead1b/lib/python3.9/site-packages (from pandas_profiling) (2.28.1)\n",
      "Requirement already satisfied: joblib in /Users/fahadalqhtani/opt/anaconda3/envs/mlflow-07c940dae14ac80331b6d1392cdce19a198ead1b/lib/python3.9/site-packages (from pandas_profiling) (1.1.0)\n",
      "Requirement already satisfied: numpy>=1.16.0 in /Users/fahadalqhtani/opt/anaconda3/envs/mlflow-07c940dae14ac80331b6d1392cdce19a198ead1b/lib/python3.9/site-packages (from pandas_profiling) (1.23.2)\n",
      "Requirement already satisfied: confuse>=1.0.0 in /Users/fahadalqhtani/opt/anaconda3/envs/mlflow-07c940dae14ac80331b6d1392cdce19a198ead1b/lib/python3.9/site-packages (from pandas_profiling) (2.0.0)\n",
      "Requirement already satisfied: tqdm>=4.48.2 in /Users/fahadalqhtani/opt/anaconda3/envs/mlflow-07c940dae14ac80331b6d1392cdce19a198ead1b/lib/python3.9/site-packages (from pandas_profiling) (4.64.0)\n",
      "Requirement already satisfied: jinja2>=2.11.1 in /Users/fahadalqhtani/opt/anaconda3/envs/mlflow-07c940dae14ac80331b6d1392cdce19a198ead1b/lib/python3.9/site-packages (from pandas_profiling) (3.1.2)\n",
      "Requirement already satisfied: seaborn>=0.10.1 in /Users/fahadalqhtani/opt/anaconda3/envs/mlflow-07c940dae14ac80331b6d1392cdce19a198ead1b/lib/python3.9/site-packages (from pandas_profiling) (0.11.1)\n",
      "Requirement already satisfied: htmlmin>=0.1.12 in /Users/fahadalqhtani/opt/anaconda3/envs/mlflow-07c940dae14ac80331b6d1392cdce19a198ead1b/lib/python3.9/site-packages (from pandas_profiling) (0.1.12)\n",
      "Requirement already satisfied: tangled-up-in-unicode>=0.0.6 in /Users/fahadalqhtani/opt/anaconda3/envs/mlflow-07c940dae14ac80331b6d1392cdce19a198ead1b/lib/python3.9/site-packages (from pandas_profiling) (0.2.0)\n",
      "Requirement already satisfied: scipy>=1.4.1 in /Users/fahadalqhtani/opt/anaconda3/envs/mlflow-07c940dae14ac80331b6d1392cdce19a198ead1b/lib/python3.9/site-packages (from pandas_profiling) (1.9.0)\n",
      "Requirement already satisfied: ipywidgets>=7.5.1 in /Users/fahadalqhtani/opt/anaconda3/envs/mlflow-07c940dae14ac80331b6d1392cdce19a198ead1b/lib/python3.9/site-packages (from pandas_profiling) (8.0.1)\n",
      "Requirement already satisfied: pandas!=1.0.0,!=1.0.1,!=1.0.2,!=1.1.0,>=0.25.3 in /Users/fahadalqhtani/opt/anaconda3/envs/mlflow-07c940dae14ac80331b6d1392cdce19a198ead1b/lib/python3.9/site-packages (from pandas_profiling) (1.2.3)\n",
      "Requirement already satisfied: phik>=0.10.0 in /Users/fahadalqhtani/opt/anaconda3/envs/mlflow-07c940dae14ac80331b6d1392cdce19a198ead1b/lib/python3.9/site-packages (from pandas_profiling) (0.12.2)\n",
      "Requirement already satisfied: visions[type_image_path]==0.6.0 in /Users/fahadalqhtani/opt/anaconda3/envs/mlflow-07c940dae14ac80331b6d1392cdce19a198ead1b/lib/python3.9/site-packages (from pandas_profiling) (0.6.0)\n",
      "Requirement already satisfied: networkx>=2.4 in /Users/fahadalqhtani/opt/anaconda3/envs/mlflow-07c940dae14ac80331b6d1392cdce19a198ead1b/lib/python3.9/site-packages (from visions[type_image_path]==0.6.0->pandas_profiling) (2.8.5)\n",
      "Requirement already satisfied: imagehash in /Users/fahadalqhtani/opt/anaconda3/envs/mlflow-07c940dae14ac80331b6d1392cdce19a198ead1b/lib/python3.9/site-packages (from visions[type_image_path]==0.6.0->pandas_profiling) (4.2.1)\n",
      "Requirement already satisfied: Pillow in /Users/fahadalqhtani/opt/anaconda3/envs/mlflow-07c940dae14ac80331b6d1392cdce19a198ead1b/lib/python3.9/site-packages (from visions[type_image_path]==0.6.0->pandas_profiling) (9.2.0)\n",
      "Requirement already satisfied: pyyaml in /Users/fahadalqhtani/opt/anaconda3/envs/mlflow-07c940dae14ac80331b6d1392cdce19a198ead1b/lib/python3.9/site-packages (from confuse>=1.0.0->pandas_profiling) (6.0)\n",
      "Requirement already satisfied: ipykernel>=4.5.1 in /Users/fahadalqhtani/opt/anaconda3/envs/mlflow-07c940dae14ac80331b6d1392cdce19a198ead1b/lib/python3.9/site-packages (from ipywidgets>=7.5.1->pandas_profiling) (6.15.1)\n",
      "Requirement already satisfied: ipython>=6.1.0 in /Users/fahadalqhtani/opt/anaconda3/envs/mlflow-07c940dae14ac80331b6d1392cdce19a198ead1b/lib/python3.9/site-packages (from ipywidgets>=7.5.1->pandas_profiling) (8.4.0)\n",
      "Requirement already satisfied: widgetsnbextension~=4.0 in /Users/fahadalqhtani/opt/anaconda3/envs/mlflow-07c940dae14ac80331b6d1392cdce19a198ead1b/lib/python3.9/site-packages (from ipywidgets>=7.5.1->pandas_profiling) (4.0.2)\n",
      "Requirement already satisfied: traitlets>=4.3.1 in /Users/fahadalqhtani/opt/anaconda3/envs/mlflow-07c940dae14ac80331b6d1392cdce19a198ead1b/lib/python3.9/site-packages (from ipywidgets>=7.5.1->pandas_profiling) (5.3.0)\n",
      "Requirement already satisfied: jupyterlab-widgets~=3.0 in /Users/fahadalqhtani/opt/anaconda3/envs/mlflow-07c940dae14ac80331b6d1392cdce19a198ead1b/lib/python3.9/site-packages (from ipywidgets>=7.5.1->pandas_profiling) (3.0.2)\n",
      "Requirement already satisfied: packaging in /Users/fahadalqhtani/opt/anaconda3/envs/mlflow-07c940dae14ac80331b6d1392cdce19a198ead1b/lib/python3.9/site-packages (from ipykernel>=4.5.1->ipywidgets>=7.5.1->pandas_profiling) (21.3)\n",
      "Requirement already satisfied: nest-asyncio in /Users/fahadalqhtani/opt/anaconda3/envs/mlflow-07c940dae14ac80331b6d1392cdce19a198ead1b/lib/python3.9/site-packages (from ipykernel>=4.5.1->ipywidgets>=7.5.1->pandas_profiling) (1.5.5)\n",
      "Requirement already satisfied: matplotlib-inline>=0.1 in /Users/fahadalqhtani/opt/anaconda3/envs/mlflow-07c940dae14ac80331b6d1392cdce19a198ead1b/lib/python3.9/site-packages (from ipykernel>=4.5.1->ipywidgets>=7.5.1->pandas_profiling) (0.1.6)\n",
      "Requirement already satisfied: jupyter-client>=6.1.12 in /Users/fahadalqhtani/opt/anaconda3/envs/mlflow-07c940dae14ac80331b6d1392cdce19a198ead1b/lib/python3.9/site-packages (from ipykernel>=4.5.1->ipywidgets>=7.5.1->pandas_profiling) (7.3.4)\n",
      "Requirement already satisfied: pyzmq>=17 in /Users/fahadalqhtani/opt/anaconda3/envs/mlflow-07c940dae14ac80331b6d1392cdce19a198ead1b/lib/python3.9/site-packages (from ipykernel>=4.5.1->ipywidgets>=7.5.1->pandas_profiling) (23.2.1)\n",
      "Requirement already satisfied: psutil in /Users/fahadalqhtani/opt/anaconda3/envs/mlflow-07c940dae14ac80331b6d1392cdce19a198ead1b/lib/python3.9/site-packages (from ipykernel>=4.5.1->ipywidgets>=7.5.1->pandas_profiling) (5.9.1)\n",
      "Requirement already satisfied: debugpy>=1.0 in /Users/fahadalqhtani/opt/anaconda3/envs/mlflow-07c940dae14ac80331b6d1392cdce19a198ead1b/lib/python3.9/site-packages (from ipykernel>=4.5.1->ipywidgets>=7.5.1->pandas_profiling) (1.6.3)\n",
      "Requirement already satisfied: appnope in /Users/fahadalqhtani/opt/anaconda3/envs/mlflow-07c940dae14ac80331b6d1392cdce19a198ead1b/lib/python3.9/site-packages (from ipykernel>=4.5.1->ipywidgets>=7.5.1->pandas_profiling) (0.1.3)\n",
      "Requirement already satisfied: tornado>=6.1 in /Users/fahadalqhtani/opt/anaconda3/envs/mlflow-07c940dae14ac80331b6d1392cdce19a198ead1b/lib/python3.9/site-packages (from ipykernel>=4.5.1->ipywidgets>=7.5.1->pandas_profiling) (6.2)\n",
      "Requirement already satisfied: backcall in /Users/fahadalqhtani/opt/anaconda3/envs/mlflow-07c940dae14ac80331b6d1392cdce19a198ead1b/lib/python3.9/site-packages (from ipython>=6.1.0->ipywidgets>=7.5.1->pandas_profiling) (0.2.0)\n",
      "Requirement already satisfied: pickleshare in /Users/fahadalqhtani/opt/anaconda3/envs/mlflow-07c940dae14ac80331b6d1392cdce19a198ead1b/lib/python3.9/site-packages (from ipython>=6.1.0->ipywidgets>=7.5.1->pandas_profiling) (0.7.5)\n",
      "Requirement already satisfied: jedi>=0.16 in /Users/fahadalqhtani/opt/anaconda3/envs/mlflow-07c940dae14ac80331b6d1392cdce19a198ead1b/lib/python3.9/site-packages (from ipython>=6.1.0->ipywidgets>=7.5.1->pandas_profiling) (0.18.1)\n",
      "Requirement already satisfied: stack-data in /Users/fahadalqhtani/opt/anaconda3/envs/mlflow-07c940dae14ac80331b6d1392cdce19a198ead1b/lib/python3.9/site-packages (from ipython>=6.1.0->ipywidgets>=7.5.1->pandas_profiling) (0.4.0)\n",
      "Requirement already satisfied: pexpect>4.3 in /Users/fahadalqhtani/opt/anaconda3/envs/mlflow-07c940dae14ac80331b6d1392cdce19a198ead1b/lib/python3.9/site-packages (from ipython>=6.1.0->ipywidgets>=7.5.1->pandas_profiling) (4.8.0)\n",
      "Requirement already satisfied: decorator in /Users/fahadalqhtani/opt/anaconda3/envs/mlflow-07c940dae14ac80331b6d1392cdce19a198ead1b/lib/python3.9/site-packages (from ipython>=6.1.0->ipywidgets>=7.5.1->pandas_profiling) (5.1.1)\n",
      "Requirement already satisfied: pygments>=2.4.0 in /Users/fahadalqhtani/opt/anaconda3/envs/mlflow-07c940dae14ac80331b6d1392cdce19a198ead1b/lib/python3.9/site-packages (from ipython>=6.1.0->ipywidgets>=7.5.1->pandas_profiling) (2.13.0)\n",
      "Requirement already satisfied: setuptools>=18.5 in /Users/fahadalqhtani/opt/anaconda3/envs/mlflow-07c940dae14ac80331b6d1392cdce19a198ead1b/lib/python3.9/site-packages (from ipython>=6.1.0->ipywidgets>=7.5.1->pandas_profiling) (59.8.0)\n",
      "Requirement already satisfied: prompt-toolkit!=3.0.0,!=3.0.1,<3.1.0,>=2.0.0 in /Users/fahadalqhtani/opt/anaconda3/envs/mlflow-07c940dae14ac80331b6d1392cdce19a198ead1b/lib/python3.9/site-packages (from ipython>=6.1.0->ipywidgets>=7.5.1->pandas_profiling) (3.0.30)\n",
      "Requirement already satisfied: parso<0.9.0,>=0.8.0 in /Users/fahadalqhtani/opt/anaconda3/envs/mlflow-07c940dae14ac80331b6d1392cdce19a198ead1b/lib/python3.9/site-packages (from jedi>=0.16->ipython>=6.1.0->ipywidgets>=7.5.1->pandas_profiling) (0.8.3)\n",
      "Requirement already satisfied: MarkupSafe>=2.0 in /Users/fahadalqhtani/opt/anaconda3/envs/mlflow-07c940dae14ac80331b6d1392cdce19a198ead1b/lib/python3.9/site-packages (from jinja2>=2.11.1->pandas_profiling) (2.1.1)\n",
      "Requirement already satisfied: jupyter-core>=4.9.2 in /Users/fahadalqhtani/opt/anaconda3/envs/mlflow-07c940dae14ac80331b6d1392cdce19a198ead1b/lib/python3.9/site-packages (from jupyter-client>=6.1.12->ipykernel>=4.5.1->ipywidgets>=7.5.1->pandas_profiling) (4.11.1)\n",
      "Requirement already satisfied: entrypoints in /Users/fahadalqhtani/opt/anaconda3/envs/mlflow-07c940dae14ac80331b6d1392cdce19a198ead1b/lib/python3.9/site-packages (from jupyter-client>=6.1.12->ipykernel>=4.5.1->ipywidgets>=7.5.1->pandas_profiling) (0.4)\n"
     ]
    },
    {
     "name": "stdout",
     "output_type": "stream",
     "text": [
      "Requirement already satisfied: python-dateutil>=2.8.2 in /Users/fahadalqhtani/opt/anaconda3/envs/mlflow-07c940dae14ac80331b6d1392cdce19a198ead1b/lib/python3.9/site-packages (from jupyter-client>=6.1.12->ipykernel>=4.5.1->ipywidgets>=7.5.1->pandas_profiling) (2.8.2)\n",
      "Requirement already satisfied: cycler>=0.10 in /Users/fahadalqhtani/opt/anaconda3/envs/mlflow-07c940dae14ac80331b6d1392cdce19a198ead1b/lib/python3.9/site-packages (from matplotlib>=3.2.0->pandas_profiling) (0.11.0)\n",
      "Requirement already satisfied: kiwisolver>=1.0.1 in /Users/fahadalqhtani/opt/anaconda3/envs/mlflow-07c940dae14ac80331b6d1392cdce19a198ead1b/lib/python3.9/site-packages (from matplotlib>=3.2.0->pandas_profiling) (1.4.4)\n",
      "Requirement already satisfied: fonttools>=4.22.0 in /Users/fahadalqhtani/opt/anaconda3/envs/mlflow-07c940dae14ac80331b6d1392cdce19a198ead1b/lib/python3.9/site-packages (from matplotlib>=3.2.0->pandas_profiling) (4.36.0)\n",
      "Requirement already satisfied: pyparsing>=2.2.1 in /Users/fahadalqhtani/opt/anaconda3/envs/mlflow-07c940dae14ac80331b6d1392cdce19a198ead1b/lib/python3.9/site-packages (from matplotlib>=3.2.0->pandas_profiling) (3.0.9)\n",
      "Requirement already satisfied: pytz>=2017.3 in /Users/fahadalqhtani/opt/anaconda3/envs/mlflow-07c940dae14ac80331b6d1392cdce19a198ead1b/lib/python3.9/site-packages (from pandas!=1.0.0,!=1.0.1,!=1.0.2,!=1.1.0,>=0.25.3->pandas_profiling) (2022.2.1)\n",
      "Requirement already satisfied: ptyprocess>=0.5 in /Users/fahadalqhtani/opt/anaconda3/envs/mlflow-07c940dae14ac80331b6d1392cdce19a198ead1b/lib/python3.9/site-packages (from pexpect>4.3->ipython>=6.1.0->ipywidgets>=7.5.1->pandas_profiling) (0.7.0)\n",
      "Requirement already satisfied: wcwidth in /Users/fahadalqhtani/opt/anaconda3/envs/mlflow-07c940dae14ac80331b6d1392cdce19a198ead1b/lib/python3.9/site-packages (from prompt-toolkit!=3.0.0,!=3.0.1,<3.1.0,>=2.0.0->ipython>=6.1.0->ipywidgets>=7.5.1->pandas_profiling) (0.2.5)\n",
      "Requirement already satisfied: six>=1.5 in /Users/fahadalqhtani/opt/anaconda3/envs/mlflow-07c940dae14ac80331b6d1392cdce19a198ead1b/lib/python3.9/site-packages (from python-dateutil>=2.8.2->jupyter-client>=6.1.12->ipykernel>=4.5.1->ipywidgets>=7.5.1->pandas_profiling) (1.16.0)\n",
      "Requirement already satisfied: charset-normalizer<3,>=2 in /Users/fahadalqhtani/opt/anaconda3/envs/mlflow-07c940dae14ac80331b6d1392cdce19a198ead1b/lib/python3.9/site-packages (from requests>=2.24.0->pandas_profiling) (2.1.0)\n",
      "Requirement already satisfied: urllib3<1.27,>=1.21.1 in /Users/fahadalqhtani/opt/anaconda3/envs/mlflow-07c940dae14ac80331b6d1392cdce19a198ead1b/lib/python3.9/site-packages (from requests>=2.24.0->pandas_profiling) (1.26.11)\n",
      "Requirement already satisfied: idna<4,>=2.5 in /Users/fahadalqhtani/opt/anaconda3/envs/mlflow-07c940dae14ac80331b6d1392cdce19a198ead1b/lib/python3.9/site-packages (from requests>=2.24.0->pandas_profiling) (3.3)\n",
      "Requirement already satisfied: certifi>=2017.4.17 in /Users/fahadalqhtani/opt/anaconda3/envs/mlflow-07c940dae14ac80331b6d1392cdce19a198ead1b/lib/python3.9/site-packages (from requests>=2.24.0->pandas_profiling) (2022.6.15)\n",
      "Requirement already satisfied: PyWavelets in /Users/fahadalqhtani/opt/anaconda3/envs/mlflow-07c940dae14ac80331b6d1392cdce19a198ead1b/lib/python3.9/site-packages (from imagehash->visions[type_image_path]==0.6.0->pandas_profiling) (1.3.0)\n",
      "Requirement already satisfied: asttokens in /Users/fahadalqhtani/opt/anaconda3/envs/mlflow-07c940dae14ac80331b6d1392cdce19a198ead1b/lib/python3.9/site-packages (from stack-data->ipython>=6.1.0->ipywidgets>=7.5.1->pandas_profiling) (2.0.8)\n",
      "Requirement already satisfied: pure-eval in /Users/fahadalqhtani/opt/anaconda3/envs/mlflow-07c940dae14ac80331b6d1392cdce19a198ead1b/lib/python3.9/site-packages (from stack-data->ipython>=6.1.0->ipywidgets>=7.5.1->pandas_profiling) (0.2.2)\n",
      "Requirement already satisfied: executing in /Users/fahadalqhtani/opt/anaconda3/envs/mlflow-07c940dae14ac80331b6d1392cdce19a198ead1b/lib/python3.9/site-packages (from stack-data->ipython>=6.1.0->ipywidgets>=7.5.1->pandas_profiling) (0.10.0)\n"
     ]
    }
   ],
   "source": [
    "! pip install pandas_profiling"
   ]
  },
  {
   "cell_type": "code",
   "execution_count": null,
   "metadata": {},
   "outputs": [],
   "source": []
  }
 ],
 "metadata": {
  "kernelspec": {
   "display_name": "Python 3 (ipykernel)",
   "language": "python",
   "name": "python3"
  },
  "language_info": {
   "codemirror_mode": {
    "name": "ipython",
    "version": 3
   },
   "file_extension": ".py",
   "mimetype": "text/x-python",
   "name": "python",
   "nbconvert_exporter": "python",
   "pygments_lexer": "ipython3",
   "version": "3.9.13"
  }
 },
 "nbformat": 4,
 "nbformat_minor": 2
}
